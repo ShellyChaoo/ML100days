{
 "cells": [
  {
   "cell_type": "markdown",
   "metadata": {},
   "source": [
    "1. 在速度較慢的時候，可以先從哪邊開始檢查？\n",
    "    - 檢查資料型態（e.g. pkl是讀取資料型態最快速的）\n",
    "    - 檢查函數，多使用Python內建函數\n",
    "    - 向量化的資料處理 (e.g. isin() 篩選出對應資料是最快的)\n",
    "2. 資料過⼤時應採取什麼⽅式讓記憶體占⽤量下降？\n",
    "欄位的型態降級(e.g. int64降成uint16)"
   ]
  }
 ],
 "metadata": {
  "kernelspec": {
   "display_name": "Python 3",
   "language": "python",
   "name": "python3"
  },
  "language_info": {
   "codemirror_mode": {
    "name": "ipython",
    "version": 3
   },
   "file_extension": ".py",
   "mimetype": "text/x-python",
   "name": "python",
   "nbconvert_exporter": "python",
   "pygments_lexer": "ipython3",
   "version": "3.8.5"
  }
 },
 "nbformat": 4,
 "nbformat_minor": 4
}
